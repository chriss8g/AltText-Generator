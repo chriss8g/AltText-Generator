{
 "cells": [
  {
   "cell_type": "code",
   "execution_count": null,
   "metadata": {},
   "outputs": [],
   "source": [
    "import os\n",
    "from ultralytics import YOLO\n"
   ]
  },
  {
   "cell_type": "code",
   "execution_count": null,
   "metadata": {},
   "outputs": [],
   "source": [
    "# Configuración\n",
    "image_folder = \"dataset/samples\"  # Carpeta con las imágenes\n",
    "output_file = \"alt_texts.txt\"  # Archivo donde se guardarán los textos alternativos\n",
    "model_path = \"model/yolov8x.pt\"  # Ruta al modelo YOLO (puedes usar un modelo preentrenado como yolov8x.pt)\n",
    "\n",
    "# Cargar el modelo\n",
    "model = YOLO(model_path)\n"
   ]
  },
  {
   "cell_type": "code",
   "execution_count": null,
   "metadata": {},
   "outputs": [],
   "source": [
    "\n",
    "# Crear o vaciar el archivo de salida\n",
    "with open(output_file, \"w\") as f:\n",
    "    f.write(\"\")  # Vaciar el archivo\n"
   ]
  },
  {
   "cell_type": "code",
   "execution_count": null,
   "metadata": {},
   "outputs": [],
   "source": [
    "\n",
    "# Procesar las imágenes\n",
    "for image_name in os.listdir(image_folder):\n",
    "    image_path = os.path.join(image_folder, image_name)\n",
    "    \n",
    "    # Asegurarse de que es una imagen\n",
    "    if not image_name.lower().endswith(('.png', '.jpg', '.jpeg', '.bmp', '.gif', '.tiff')):\n",
    "        continue\n",
    "\n",
    "    # Realizar detección con YOLO\n",
    "    results = model(image_path)\n",
    "\n",
    "    # Extraer información de detección\n",
    "    alt_texts = []\n",
    "    for result in results:\n",
    "        for box in result.boxes.data:\n",
    "            cls = int(box[5])  # Clase detectada\n",
    "            confidence = float(box[4])  # Confianza de la predicción\n",
    "            label = model.names[cls]  # Nombre de la clase\n",
    "            alt_texts.append(f\"{label} ({confidence:.2f})\")\n",
    "    \n",
    "    # Crear el texto alternativo\n",
    "    alt_text = f\"{image_name}: {', '.join(alt_texts)}\"\n",
    "    \n",
    "    # Guardar en el archivo de salida\n",
    "    with open(output_file, \"a\") as f:\n",
    "        f.write(alt_text + \"\\n\")\n",
    "    \n",
    "    print(f\"Procesada: {image_name} -> {alt_text}\")\n"
   ]
  }
 ],
 "metadata": {
  "language_info": {
   "name": "python"
  }
 },
 "nbformat": 4,
 "nbformat_minor": 2
}
